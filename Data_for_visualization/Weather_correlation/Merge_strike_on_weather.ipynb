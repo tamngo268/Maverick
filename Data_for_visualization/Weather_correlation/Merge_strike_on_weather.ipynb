{
 "cells": [
  {
   "cell_type": "markdown",
   "id": "91c8bdf3-61f2-4357-aaf4-f7fade0af1d2",
   "metadata": {},
   "source": [
    "Importing Python libraries"
   ]
  },
  {
   "cell_type": "code",
   "execution_count": null,
   "id": "64de460b-dab1-45e9-b13d-e69979d1c018",
   "metadata": {},
   "outputs": [],
   "source": [
    "import pandas as pd\n",
    "import numpy as np \n",
    "import seaborn as sns\n",
    "import matplotlib.pyplot as plt"
   ]
  },
  {
   "cell_type": "markdown",
   "id": "341f9f2d-73ca-4218-a3d6-c4b92553cb94",
   "metadata": {},
   "source": [
    "## Action Plan \n",
    "\n",
    "Here we are joining two different data. \n",
    "The data are as follows \n",
    "\n",
    "1. strike_data_clean1.csv\n",
    "    \n",
    "2. VCW_weather_data.csv\n"
   ]
  },
  {
   "cell_type": "markdown",
   "id": "0aa9a85f-5433-4bd2-a5c4-440dceff0618",
   "metadata": {},
   "source": [
    "Reading this data"
   ]
  },
  {
   "cell_type": "code",
   "execution_count": 2,
   "id": "29c21ac7-fc94-4ed8-b893-4ceb196d74f4",
   "metadata": {},
   "outputs": [
    {
     "name": "stderr",
     "output_type": "stream",
     "text": [
      "/Library/Frameworks/Python.framework/Versions/3.9/lib/python3.9/site-packages/IPython/core/interactiveshell.py:3169: DtypeWarning: Columns (10,11,33) have mixed types.Specify dtype option on import or set low_memory=False.\n",
      "  has_raised = await self.run_ast_nodes(code_ast.body, cell_name,\n"
     ]
    }
   ],
   "source": [
    "df_strike = pd.read_csv(\"./data/strike_data_clean_1.csv\")"
   ]
  },
  {
   "cell_type": "code",
   "execution_count": 3,
   "id": "6d24e54e-791b-4785-aff8-a23d7844c310",
   "metadata": {},
   "outputs": [],
   "source": [
    "df_weather = pd.read_excel(\"./data/weather_data.xlsx\" , sheet_name = 'IAD')"
   ]
  },
  {
   "cell_type": "markdown",
   "id": "47885e47-0fe5-4b59-b56d-b734d2005c32",
   "metadata": {},
   "source": [
    "Performing Left Join of Wildlife strike data on Weather data "
   ]
  },
  {
   "cell_type": "code",
   "execution_count": 4,
   "id": "bce9de27-05b7-48e9-af2a-5c63ce04a2ed",
   "metadata": {},
   "outputs": [],
   "source": [
    "def prepare_weather_data(df):\n",
    "    \n",
    "    ### Clean Datetime Column\n",
    "    df['datetime'] = pd.to_datetime(df['datetime']).dt.strftime('%Y-%m-%d')\n",
    "    \n",
    "    ## Taking mean at daily level\n",
    "    df_daily = df.groupby(\"datetime\").mean().reset_index()\n",
    "    \n",
    "    return df_daily"
   ]
  },
  {
   "cell_type": "code",
   "execution_count": 5,
   "id": "6caa94a3-9d66-4880-9bb3-bd36919d891e",
   "metadata": {},
   "outputs": [],
   "source": [
    "def prepare_strike_data(df , airport_id = 'KIAD'):\n",
    "    df = df[df['AIRPORT_ID'] == airport_id]\n",
    "    df['INCIDENT_DATE'] = pd.to_datetime(df['INCIDENT_DATE']).dt.strftime('%Y-%m-%d')\n",
    "    df = df.reset_index(drop =True)\n",
    "    \n",
    "    return df"
   ]
  },
  {
   "cell_type": "code",
   "execution_count": 6,
   "id": "cffdbbdb-20fc-408f-bc86-e84bc9744be4",
   "metadata": {},
   "outputs": [
    {
     "name": "stderr",
     "output_type": "stream",
     "text": [
      "<ipython-input-5-3ba02197ed27>:3: SettingWithCopyWarning: \n",
      "A value is trying to be set on a copy of a slice from a DataFrame.\n",
      "Try using .loc[row_indexer,col_indexer] = value instead\n",
      "\n",
      "See the caveats in the documentation: https://pandas.pydata.org/pandas-docs/stable/user_guide/indexing.html#returning-a-view-versus-a-copy\n",
      "  df['INCIDENT_DATE'] = pd.to_datetime(df['INCIDENT_DATE']).dt.strftime('%Y-%m-%d')\n"
     ]
    }
   ],
   "source": [
    "df_weather = prepare_weather_data(df_weather)\n",
    "df_strike_IAD = prepare_strike_data(df_strike , airport_id = 'KIAD')"
   ]
  },
  {
   "cell_type": "code",
   "execution_count": 7,
   "id": "1e33cea1-4992-4742-a944-580d588338d5",
   "metadata": {},
   "outputs": [
    {
     "data": {
      "text/plain": [
       "(2426, 34)"
      ]
     },
     "execution_count": 7,
     "metadata": {},
     "output_type": "execute_result"
    }
   ],
   "source": [
    "df_strike_IAD.shape"
   ]
  },
  {
   "cell_type": "code",
   "execution_count": 8,
   "id": "71619bd5-86f8-403e-8e36-57d5c15582ea",
   "metadata": {},
   "outputs": [
    {
     "data": {
      "text/plain": [
       "(1384, 21)"
      ]
     },
     "execution_count": 8,
     "metadata": {},
     "output_type": "execute_result"
    }
   ],
   "source": [
    "df_weather.shape"
   ]
  },
  {
   "cell_type": "code",
   "execution_count": 10,
   "id": "4a8d3743-b706-4e8a-b137-252bbd9b94ee",
   "metadata": {},
   "outputs": [],
   "source": [
    "# df_strike_IAD"
   ]
  },
  {
   "cell_type": "code",
   "execution_count": 11,
   "id": "fe9e4d31-d952-45f7-b7b5-5ebb019c5e86",
   "metadata": {},
   "outputs": [],
   "source": [
    "df_merge_ws = df_weather.merge( right = df_strike_IAD \n",
    "                                    , how = \"left\"\n",
    "                                    , left_on = ['datetime']\n",
    "                                    , right_on = ['INCIDENT_DATE'])"
   ]
  },
  {
   "cell_type": "code",
   "execution_count": 28,
   "id": "a90862d0-549f-42da-9b7e-90e3ff2b86b2",
   "metadata": {},
   "outputs": [],
   "source": [
    "df_merge_ws['STRIKE_COUNT'] = df_merge_ws.INDEX_NR.apply(lambda x: 0 if pd.isnull(x) else 1)"
   ]
  },
  {
   "cell_type": "code",
   "execution_count": 45,
   "id": "148f8f78-4af2-4188-827f-f4ae8d94ffd4",
   "metadata": {},
   "outputs": [],
   "source": [
    "df_merge_ws.to_csv('df_merge_ws_2.csv', index=False)"
   ]
  },
  {
   "cell_type": "code",
   "execution_count": 32,
   "id": "709014f7-f024-402a-8881-3a83a50230c0",
   "metadata": {},
   "outputs": [],
   "source": [
    "# df_merge_ws.to_csv('df_merge_2.csv', index=False)\n",
    "\n",
    "df_merge_ws[['temp', 'feelslike', 'humidity', 'dew', 'precip', 'precipprob', 'snow', 'snowdepth', 'windgust', 'windspeed',\n",
    "       'winddir', 'pressure', 'visibility', 'cloudcover', 'solarradiation',\n",
    "       'solarenergy', 'uvindex', 'tzoffset', 'severerisk' , 'STRIKE_COUNT']].corr()[['STRIKE_COUNT']].to_csv(\"correlation.csv\" )"
   ]
  },
  {
   "cell_type": "code",
   "execution_count": 36,
   "id": "2abee56a-285f-4218-a6e5-a957b60545df",
   "metadata": {},
   "outputs": [],
   "source": [
    "numeric_columns = df_merge_ws[['temp', 'feelslike', 'humidity', 'dew', 'precip', 'precipprob', 'snow', 'snowdepth', 'windgust', 'windspeed',\n",
    "       'winddir', 'pressure', 'visibility', 'cloudcover', 'solarradiation',\n",
    "       'solarenergy', 'uvindex', 'tzoffset', 'severerisk' , 'STRIKE_COUNT']].corr()[['STRIKE_COUNT']]"
   ]
  },
  {
   "cell_type": "code",
   "execution_count": 43,
   "id": "c32ea133-1b70-410a-835c-6d3d66af8d14",
   "metadata": {},
   "outputs": [],
   "source": [
    "correlation_matrix = numeric_columns.unstack().sort_values(ascending=False, key= abs)\n"
   ]
  },
  {
   "cell_type": "code",
   "execution_count": 46,
   "id": "320c7d39-2c52-45fe-8f14-d3b5b67f484f",
   "metadata": {},
   "outputs": [
    {
     "data": {
      "text/plain": [
       "('2020-01-01', '2023-10-15')"
      ]
     },
     "execution_count": 46,
     "metadata": {},
     "output_type": "execute_result"
    }
   ],
   "source": [
    "df_weather.datetime.min() , df_weather.datetime.max()"
   ]
  },
  {
   "cell_type": "code",
   "execution_count": 2,
   "id": "9da38aae-396c-4528-a389-3a14ba3ff104",
   "metadata": {},
   "outputs": [],
   "source": [
    "#df_merge.to_csv('df_merge_ws.csv', index=False)"
   ]
  },
  {
   "cell_type": "code",
   "execution_count": null,
   "id": "2cb59bf4-405e-4322-8702-f09e349fe852",
   "metadata": {},
   "outputs": [],
   "source": []
  }
 ],
 "metadata": {
  "kernelspec": {
   "display_name": "Python 3",
   "language": "python",
   "name": "python3"
  },
  "language_info": {
   "codemirror_mode": {
    "name": "ipython",
    "version": 3
   },
   "file_extension": ".py",
   "mimetype": "text/x-python",
   "name": "python",
   "nbconvert_exporter": "python",
   "pygments_lexer": "ipython3",
   "version": "3.9.5"
  }
 },
 "nbformat": 4,
 "nbformat_minor": 5
}
